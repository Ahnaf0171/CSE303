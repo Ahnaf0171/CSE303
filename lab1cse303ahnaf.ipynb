{
 "cells": [
  {
   "cell_type": "code",
   "execution_count": 3,
   "id": "0582c17a",
   "metadata": {},
   "outputs": [
    {
     "name": "stdout",
     "output_type": "stream",
     "text": [
      "Enter A: 20\n",
      "Enter B: 30\n",
      "Product is = 600\n"
     ]
    }
   ],
   "source": [
    "#lab1\n",
    "#ahnaf\n",
    "#ex1\n",
    "def product(a,b):\n",
    "     return a*b\n",
    "a = int(input(\"Enter A: \"))\n",
    "b = int(input(\"Enter B: \"))\n",
    "\n",
    "\n",
    "if(product(a,b)>1000):\n",
    "    sum=a+b\n",
    "    print(\"Sum is = %d\" %sum)\n",
    "else: print(\"Product is = %d\" %product(a,b))"
   ]
  },
  {
   "cell_type": "code",
   "execution_count": 4,
   "id": "7ed8271b",
   "metadata": {},
   "outputs": [],
   "source": [
    "#%"
   ]
  },
  {
   "cell_type": "code",
   "execution_count": 5,
   "id": "397ef37c",
   "metadata": {},
   "outputs": [
    {
     "name": "stdout",
     "output_type": "stream",
     "text": [
      "Radius: 5\n",
      "Area=  78.53981633974483\n",
      "Perimeter =  31.41592653589793\n"
     ]
    }
   ],
   "source": [
    "#ex2\n",
    "import math \n",
    "def circle_rad(r):\n",
    "    return math.pi*r*r\n",
    "\n",
    "def circle_peri(r):\n",
    "    return 2* math.pi*r\n",
    "\n",
    "r = float (input(\"Radius: \"))\n",
    "area= circle_rad(r)\n",
    "print(\"Area= \", area)\n",
    "\n",
    "perimeter= circle_peri(r)\n",
    "print(\"Perimeter = \", perimeter)"
   ]
  },
  {
   "cell_type": "code",
   "execution_count": 8,
   "id": "48bf104f",
   "metadata": {},
   "outputs": [
    {
     "name": "stdout",
     "output_type": "stream",
     "text": [
      "principle amount: 5\n",
      "interest amount: 6\n",
      "time(years): 7\n",
      "Compound Interest =  7.5181512949568035\n"
     ]
    }
   ],
   "source": [
    "#ex3\n",
    "def compound_interest_054(P,R,T):\n",
    "    return P*(1+(R/100))**T\n",
    "\n",
    "P = float(input(\"principle amount: \"))\n",
    "R = float(input(\"interest amount: \"))\n",
    "T = float(input(\"time(years): \"))\n",
    "Ans= compound_interest_054(P,R,T)\n",
    "print(\"Compound Interest = \",Ans)\n"
   ]
  },
  {
   "cell_type": "code",
   "execution_count": 1,
   "id": "fa4666cd",
   "metadata": {},
   "outputs": [
    {
     "name": "stdout",
     "output_type": "stream",
     "text": [
      "Enter value of a : 5\n",
      "Value of the series : 55\n"
     ]
    }
   ],
   "source": [
    "#ex4\n",
    "def s_sum(n):\n",
    "    if(n == 0):\n",
    "        return 0\n",
    "    else:\n",
    "        return (n*n)+s_sum(n-1)\n",
    "\n",
    "a= int(input(\"Enter value of a : \"))\n",
    "sum = s_sum(a)\n",
    "print(\"Value of the series : %d\" %sum)\n",
    "\n"
   ]
  },
  {
   "cell_type": "code",
   "execution_count": 7,
   "id": "080d3bbb",
   "metadata": {},
   "outputs": [
    {
     "name": "stdout",
     "output_type": "stream",
     "text": [
      "Number: 5\n",
      "5 a prime number\n"
     ]
    }
   ],
   "source": [
    "#%\n",
    "#ex5\n",
    "def prime_find_054(n):\n",
    "    if n>1:\n",
    "        for i in range(2,n):\n",
    "            if (n % i) == 0:\n",
    "                return True\n",
    "            else: False\n",
    "    else: False\n",
    "\n",
    "a=int(input(\"Number: \"))\n",
    "if (prime_find_054(a)==True):\n",
    "    print(a, \"not a prime number\")\n",
    "else:\n",
    "    print(\"%d a prime number\"%a)\n"
   ]
  },
  {
   "cell_type": "code",
   "execution_count": 14,
   "id": "f6341012",
   "metadata": {},
   "outputs": [
    {
     "name": "stdout",
     "output_type": "stream",
     "text": [
      "number : 5\n",
      "n-th fibonacci number is = 13\n"
     ]
    }
   ],
   "source": [
    "#%\n",
    "#ex6\n",
    "def fibonacci(n):\n",
    "    if n==0:\n",
    "        return 0\n",
    "    elif n==1:\n",
    "        return 1\n",
    "    else:\n",
    "        return fibonacci(n-1)+fibonacci(n-2)\n",
    "\n",
    "a=int(input(\"number : \"))\n",
    "if(n<0):\n",
    "    print(\"Wrong input\")\n",
    "else: \n",
    "    print(\"n-th fibonacci number is = %d\" %fibonacci(n))\n"
   ]
  },
  {
   "cell_type": "code",
   "execution_count": 15,
   "id": "91372684",
   "metadata": {},
   "outputs": [
    {
     "name": "stdout",
     "output_type": "stream",
     "text": [
      "Sum 305\n"
     ]
    }
   ],
   "source": [
    "#%\n",
    "#ex7\n",
    "list=[50,34,65,8,81,67]\n",
    "t=0\n",
    "for element in range(0, len(list)):\n",
    "    t=t+list[element]\n",
    "\n",
    "print(\"Sum\",t)\n"
   ]
  },
  {
   "cell_type": "code",
   "execution_count": 25,
   "id": "3bda8d2b",
   "metadata": {},
   "outputs": [
    {
     "name": "stdout",
     "output_type": "stream",
     "text": [
      "even sum   196\n"
     ]
    }
   ],
   "source": [
    "#%\n",
    "#ex8\n",
    "list=[50,34,65,8,81,67]\n",
    "t=0\n",
    "for i in range(0, len(list)):\n",
    "   if(i%2==0):\n",
    "       t=t+list[i];\n",
    "print(\"even sum  \", t)\n",
    "\n",
    "\n",
    "\n",
    "\n",
    "\n"
   ]
  },
  {
   "cell_type": "code",
   "execution_count": 26,
   "id": "e8658156",
   "metadata": {},
   "outputs": [
    {
     "name": "stdout",
     "output_type": "stream",
     "text": [
      "Largest number: 54\n",
      "Smallest number: 8\n"
     ]
    }
   ],
   "source": [
    "#%\n",
    "#ex9\n",
    "list=[50,34,15,8,31,54]\n",
    "def largest_number(n):\n",
    "    largest=n[0]\n",
    "    for i in range(len(n)):\n",
    "        if n[i] > largest:\n",
    "            largest= n[i]\n",
    "    print(\"Largest number:\", largest)\n",
    "     \n",
    "def smallest_number(n):\n",
    "    smallest= n[0]\n",
    "    for i in range(len(n)):\n",
    "        if n[i] < smallest:\n",
    "             smallest = n[i] \n",
    "    print(\"Smallest number:\", smallest)\n",
    "\n",
    "largest_number(list)\n",
    "smallest_number(list)\n"
   ]
  },
  {
   "cell_type": "code",
   "execution_count": 29,
   "id": "50b4afd8",
   "metadata": {},
   "outputs": [
    {
     "name": "stdout",
     "output_type": "stream",
     "text": [
      "Second largest element is: 50\n"
     ]
    }
   ],
   "source": [
    "#%\n",
    "#ex10\n",
    "list=[50,34,15,8,31,54]\n",
    "l=len(list)\n",
    "list.sort()\n",
    "print(\"Second largest element is:\", list[l-2])"
   ]
  },
  {
   "cell_type": "code",
   "execution_count": 30,
   "id": "f3ad09f4",
   "metadata": {},
   "outputs": [
    {
     "name": "stdout",
     "output_type": "stream",
     "text": [
      "Enter string: ahnaf is a good boy\n",
      "a\n",
      "n\n",
      "f\n",
      "i\n",
      " \n",
      " \n",
      "o\n",
      "d\n",
      "b\n",
      "y\n"
     ]
    }
   ],
   "source": [
    "#%\n",
    "#ex11\n",
    "string=input(\"Enter string: \")\n",
    "for i in range (len(string)):\n",
    "    if(i%2==0):\n",
    "        print(string[i])\n"
   ]
  },
  {
   "cell_type": "code",
   "execution_count": 4,
   "id": "cd0a1787",
   "metadata": {},
   "outputs": [
    {
     "name": "stdout",
     "output_type": "stream",
     "text": [
      "Enter string: university\n",
      "Enter number: 5\n",
      "rsity\n"
     ]
    }
   ],
   "source": [
    "#ex12\n",
    "string=input(\"Enter string: \")\n",
    "z=len(string)\n",
    "n=int(input(\"Enter number: \"))\n",
    "\n",
    "nw=\"\"\n",
    "\n",
    "for x in range(0,z):\n",
    "    if x>=n:\n",
    "        nw=nw+string[x]\n",
    "\n",
    "print(nw)"
   ]
  },
  {
   "cell_type": "code",
   "execution_count": 7,
   "id": "5af65923",
   "metadata": {},
   "outputs": [
    {
     "name": "stdout",
     "output_type": "stream",
     "text": [
      "CSE303\n",
      "1\n"
     ]
    }
   ],
   "source": [
    "#ex13\n",
    "sentence =' CSE303 is a difficult course .'\n",
    "sub_string = 'CSE303'\n",
    "print(sub_string)\n",
    "count = 0\n",
    "sub_len=len(sub_string)\n",
    "for i in range(len(sentence)):\n",
    "    if sentence[i:i+sub_len] == sub_string:\n",
    "        count += 1\n",
    "print (count)\n"
   ]
  },
  {
   "cell_type": "code",
   "execution_count": 19,
   "id": "50398c89",
   "metadata": {},
   "outputs": [
    {
     "name": "stdout",
     "output_type": "stream",
     "text": [
      "Yes\n"
     ]
    }
   ],
   "source": [
    "#ex14\n",
    "def palindromecheck_054(x):\n",
    "    return x == x[::-1]\n",
    " \n",
    "x = \"civic\"\n",
    "ans = palindromecheck_054(x)\n",
    " \n",
    "if ans :\n",
    "    print(\"Yes\")\n",
    "else:\n",
    "    print(\"No\")\n"
   ]
  },
  {
   "cell_type": "code",
   "execution_count": 24,
   "id": "b2d27467",
   "metadata": {},
   "outputs": [
    {
     "name": "stdout",
     "output_type": "stream",
     "text": [
      "Odd numbers from list 1 : \n",
      "[1, 5, 11]\n",
      "Even numbers from list 2 : \n",
      "[4, 14, 90]\n"
     ]
    }
   ],
   "source": [
    "#ex15\n",
    "even=[]\n",
    "odd=[]\n",
    "lst1=[1,2,5,6,8,11] \n",
    "lst2=[5,4,7,15,14,90] \n",
    "lngth1=len(lst1)\n",
    "lngth2=len(lst2)\n",
    "print(\"Odd numbers from list 1 : \")\n",
    "for i in range (0,lngth1):\n",
    "    if(list1[i]%2!=0):\n",
    "        odd.append(lst1[i])\n",
    "print(odd)\n",
    "lst2= [5,4,7,15,14,90]\n",
    "print(\"Even numbers from list 2 : \")\n",
    "for i in range (0,lngth2):\n",
    "    if(lst2[i]%2==0):\n",
    "        even.append(lst2[i])\n",
    "print(even)\n",
    "\n"
   ]
  },
  {
   "cell_type": "code",
   "execution_count": null,
   "id": "502b9573",
   "metadata": {},
   "outputs": [],
   "source": []
  }
 ],
 "metadata": {
  "kernelspec": {
   "display_name": "Python 3 (ipykernel)",
   "language": "python",
   "name": "python3"
  },
  "language_info": {
   "codemirror_mode": {
    "name": "ipython",
    "version": 3
   },
   "file_extension": ".py",
   "mimetype": "text/x-python",
   "name": "python",
   "nbconvert_exporter": "python",
   "pygments_lexer": "ipython3",
   "version": "3.9.7"
  }
 },
 "nbformat": 4,
 "nbformat_minor": 5
}
